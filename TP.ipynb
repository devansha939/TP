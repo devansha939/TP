{
  "nbformat": 4,
  "nbformat_minor": 0,
  "metadata": {
    "colab": {
      "provenance": [],
      "authorship_tag": "ABX9TyM885+7/KHZd6GldyhCJEXW",
      "include_colab_link": true
    },
    "kernelspec": {
      "name": "python3",
      "display_name": "Python 3"
    },
    "language_info": {
      "name": "python"
    }
  },
  "cells": [
    {
      "cell_type": "markdown",
      "metadata": {
        "id": "view-in-github",
        "colab_type": "text"
      },
      "source": [
        "<a href=\"https://colab.research.google.com/github/devansha939/TP/blob/main/TP.ipynb\" target=\"_parent\"><img src=\"https://colab.research.google.com/assets/colab-badge.svg\" alt=\"Open In Colab\"/></a>"
      ]
    },
    {
      "cell_type": "code",
      "execution_count": 1,
      "metadata": {
        "colab": {
          "base_uri": "https://localhost:8080/"
        },
        "id": "Nfj-4QtKeXkN",
        "outputId": "345adb9f-bf20-4ce7-d776-cd1781a0bc3e"
      },
      "outputs": [
        {
          "output_type": "stream",
          "name": "stdout",
          "text": [
            "Cloning into 'TP_PS'...\n",
            "remote: Enumerating objects: 43, done.\u001b[K\n",
            "remote: Counting objects: 100% (43/43), done.\u001b[K\n",
            "remote: Compressing objects: 100% (42/42), done.\u001b[K\n",
            "remote: Total 43 (delta 8), reused 25 (delta 0), pack-reused 0\u001b[K\n",
            "Receiving objects: 100% (43/43), 11.34 MiB | 24.14 MiB/s, done.\n",
            "Resolving deltas: 100% (8/8), done.\n"
          ]
        }
      ],
      "source": [
        "!git clone https://github.com/gcsarker/XTM.git TP_PS"
      ]
    },
    {
      "cell_type": "code",
      "source": [
        "!pip install scripts"
      ],
      "metadata": {
        "colab": {
          "base_uri": "https://localhost:8080/"
        },
        "id": "4Gddej4XeZVS",
        "outputId": "1c23f711-5356-4d70-947b-b9ad5691d94d"
      },
      "execution_count": 2,
      "outputs": [
        {
          "output_type": "stream",
          "name": "stdout",
          "text": [
            "Collecting scripts\n",
            "  Downloading scripts-3.0-py3-none-any.whl (18 kB)\n",
            "Collecting stua (from scripts)\n",
            "  Downloading stua-0.3-py3-none-any.whl (8.3 kB)\n",
            "Installing collected packages: stua, scripts\n",
            "Successfully installed scripts-3.0 stua-0.3\n"
          ]
        }
      ]
    },
    {
      "cell_type": "code",
      "source": [
        "import os\n",
        "\n",
        "# Ensure you are in the `/content` directory, which is the root for all files in Colab\n",
        "os.chdir('/content')\n",
        "\n",
        "# Verify the current working directory\n",
        "print(\"Current directory:\", os.getcwd())\n",
        "\n",
        "# List the contents of the current directory to verify the `TP` folder is there\n",
        "print(\"Directory contents:\", os.listdir())\n",
        "\n",
        "# Now change to the `TP_PS` directory\n",
        "os.chdir('/content/TP_PS')\n",
        "\n",
        "# Create the __init__.py file within the scripts directory\n",
        "!touch scripts/__init__.py\n",
        "\n",
        "# Check if the __init__.py file has been created successfully\n",
        "print(\"Scripts directory contents:\", os.listdir('scripts'))\n"
      ],
      "metadata": {
        "colab": {
          "base_uri": "https://localhost:8080/"
        },
        "id": "x-EI13feegQp",
        "outputId": "207938f4-6d16-4522-b592-22eef9b010f7"
      },
      "execution_count": 4,
      "outputs": [
        {
          "output_type": "stream",
          "name": "stdout",
          "text": [
            "Current directory: /content\n",
            "Directory contents: ['.config', 'TP_PS', 'sample_data']\n",
            "Scripts directory contents: ['Data.py', 'LDM_Model.py', '__init__.py', 'Utility_Functions.py', 'FPDM_Models.py', '__pycache__', 'LDM_Data.py', 'FPDM.py']\n"
          ]
        }
      ]
    },
    {
      "cell_type": "code",
      "source": [
        "# Correct the file paths\n",
        "data_path = os.path.join(os.getcwd(), \"dataset/hourly_dataset.csv\")\n",
        "atk_vector_path = os.path.join(os.getcwd(), \"dataset/fdi_attack_vector.xlsx\")\n",
        "\n",
        "# Now verify that the files are indeed present at those paths\n",
        "print(\"Checking if 'hourly_dataset.csv' exists:\", os.path.exists(data_path))\n",
        "print(\"Checking if 'fdi_attack_vector.xlsx' exists:\", os.path.exists(atk_vector_path))\n"
      ],
      "metadata": {
        "colab": {
          "base_uri": "https://localhost:8080/"
        },
        "id": "EVQOotUOeyY-",
        "outputId": "5433e714-59b6-4f13-b351-a0c3bff7be4b"
      },
      "execution_count": 5,
      "outputs": [
        {
          "output_type": "stream",
          "name": "stdout",
          "text": [
            "Checking if 'hourly_dataset.csv' exists: False\n",
            "Checking if 'fdi_attack_vector.xlsx' exists: False\n"
          ]
        }
      ]
    },
    {
      "cell_type": "code",
      "source": [
        "from google.colab import drive\n",
        "drive.mount('/content/drive')"
      ],
      "metadata": {
        "colab": {
          "base_uri": "https://localhost:8080/"
        },
        "id": "Dhug5JdBe75P",
        "outputId": "1af64683-0c4f-4da4-ef0c-7ba3f4fad3d1"
      },
      "execution_count": 6,
      "outputs": [
        {
          "output_type": "stream",
          "name": "stdout",
          "text": [
            "Mounted at /content/drive\n"
          ]
        }
      ]
    },
    {
      "cell_type": "code",
      "source": [
        "data_path = '/content/drive/My Drive/hourly_dataset.csv'  # Update this path\n",
        "atk_vector_path = '/content/drive/My Drive/fdi_attack_vector.xlsx'  # Update this path too, if necessary"
      ],
      "metadata": {
        "id": "0FrMLigje-IJ"
      },
      "execution_count": 7,
      "outputs": []
    },
    {
      "cell_type": "code",
      "source": [
        "!python3 /content/TP_PS/main.py"
      ],
      "metadata": {
        "colab": {
          "base_uri": "https://localhost:8080/"
        },
        "id": "ODacbectfGQp",
        "outputId": "6a4ed5f0-832f-46ac-d7ef-e379e8395969"
      },
      "execution_count": 19,
      "outputs": [
        {
          "output_type": "stream",
          "name": "stdout",
          "text": [
            "2024-05-09 04:21:39.379720: E external/local_xla/xla/stream_executor/cuda/cuda_dnn.cc:9261] Unable to register cuDNN factory: Attempting to register factory for plugin cuDNN when one has already been registered\n",
            "2024-05-09 04:21:39.379834: E external/local_xla/xla/stream_executor/cuda/cuda_fft.cc:607] Unable to register cuFFT factory: Attempting to register factory for plugin cuFFT when one has already been registered\n",
            "2024-05-09 04:21:39.382395: E external/local_xla/xla/stream_executor/cuda/cuda_blas.cc:1515] Unable to register cuBLAS factory: Attempting to register factory for plugin cuBLAS when one has already been registered\n",
            "2024-05-09 04:21:39.396353: I tensorflow/core/platform/cpu_feature_guard.cc:182] This TensorFlow binary is optimized to use available CPU instructions in performance-critical operations.\n",
            "To enable the following instructions: AVX2 FMA, in other operations, rebuild TensorFlow with the appropriate compiler flags.\n",
            "2024-05-09 04:21:41.676157: W tensorflow/compiler/tf2tensorrt/utils/py_utils.cc:38] TF-TRT Warning: Could not find TensorRT\n",
            "\n",
            "Loading Benign Hourly Data...\n",
            "\n",
            "Features Selected Index(['line_1', 'line_2', 'line_3', 'line_4', 'line_5', 'line_6', 'line_7',\n",
            "       'line_8', 'line_9', 'line_10', 'line_11', 'line_12', 'line_13',\n",
            "       'line_14', 'line_15', 'line_16', 'line_17', 'line_18', 'line_19',\n",
            "       'line_20', 'line_21', 'line_22', 'line_23', 'line_24', 'line_25',\n",
            "       'line_26', 'line_27', 'line_28', 'line_29', 'line_30', 'line_31',\n",
            "       'line_32', 'line_33', 'line_34', 'line_35', 'line_36', 'line_37',\n",
            "       'line_38', 'line_39', 'line_40', 'Cons_1', 'Cons_2', 'Cons_3', 'Cons_4',\n",
            "       'Cons_5', 'Cons_6', 'Cons_7', 'Cons_8', 'Cons_9', 'Cons_10', 'Cons_11',\n",
            "       'Cons_12', 'Cons_13', 'Cons_14'],\n",
            "      dtype='object')\n",
            "\n",
            "Loading False Data Injection Attack Vectors...\n",
            "\n",
            "shape of Attack vector (128, 54)\n",
            "shape of labels  (128, 54)\n",
            "\n",
            "Training set shape:  (7008, 54)\n",
            "Validation set shape  (876, 54)\n",
            "Test Set Shape  (876, 54)\n",
            "Loading xtmmodel for FDI presence detection module ...\n",
            "loading xtm from saved models...\n",
            "\n",
            "Preparing test set for LDM (real and Predicted from FPDM) ...\n",
            "100% 17/17 [00:05<00:00,  3.25it/s]\n",
            "\n",
            "Saving Data...\n",
            "\n",
            "plotting histogram showing how fpdm can detect attack vector 5 from our attack vector dataset\n",
            "injected_data shape == (828, 54)\n",
            "Figure(640x480)\n",
            "\n",
            "calculating MAE, MSE and RMSE score of FPDM forecasting model on test data\n",
            "mae : 0.9866080110480385, mse : 2.499159001762761, rmse : 1.2634605286047615\n",
            "\n",
            "Calculating precision recall f1-score of FPDM on test data\n",
            "precision = 0.9981949458483754, recall = 0.9981884057971014, f1-score = 0.9981883998516587\n",
            "loading ldm model trained with predictions from xtm from the saved models...\n",
            "\n",
            "The roc curve for location detection module\n",
            "26/26 [==============================] - 1s 6ms/step\n",
            "26/26 [==============================] - 0s 6ms/step\n",
            "26/26 [==============================] - 0s 6ms/step\n",
            "26/26 [==============================] - 0s 5ms/step\n",
            "26/26 [==============================] - 0s 4ms/step\n",
            "26/26 [==============================] - 0s 4ms/step\n",
            "26/26 [==============================] - 0s 4ms/step\n",
            "26/26 [==============================] - 0s 4ms/step\n",
            "26/26 [==============================] - 0s 5ms/step\n",
            "26/26 [==============================] - 0s 5ms/step\n",
            "26/26 [==============================] - 0s 6ms/step\n",
            "Figure(640x480)\n",
            "\n",
            "calculating precision recall f1 score of LDM\n",
            "26/26 [==============================] - 0s 8ms/step\n",
            "precision = 0.9975895689076227, recall = 0.9973691959213412, f1 score = 0.9974413131869083\n"
          ]
        }
      ]
    },
    {
      "cell_type": "code",
      "source": [
        "%cd /content/TP_PS"
      ],
      "metadata": {
        "colab": {
          "base_uri": "https://localhost:8080/"
        },
        "id": "_t5RarAqfG6E",
        "outputId": "7a663520-a478-4335-8aa9-0d600f20d679"
      },
      "execution_count": 20,
      "outputs": [
        {
          "output_type": "stream",
          "name": "stdout",
          "text": [
            "/content\n"
          ]
        }
      ]
    },
    {
      "cell_type": "code",
      "source": [
        "!zip -r models.zip /content/TP_PS"
      ],
      "metadata": {
        "colab": {
          "base_uri": "https://localhost:8080/"
        },
        "id": "FLuDWm_eneOw",
        "outputId": "37c5f337-396f-42c0-bccf-7969ba97fe2f"
      },
      "execution_count": 21,
      "outputs": [
        {
          "output_type": "stream",
          "name": "stdout",
          "text": [
            "  adding: content/TP_PS/ (stored 0%)\n",
            "  adding: content/TP_PS/LICENSE (deflated 41%)\n",
            "  adding: content/TP_PS/main.py (deflated 65%)\n",
            "  adding: content/TP_PS/checkpoint/ (stored 0%)\n",
            "  adding: content/TP_PS/checkpoint/fpdm_cnn_transformer.h5 (deflated 34%)\n",
            "  adding: content/TP_PS/checkpoint/LDM_xtm_test_predictions.txt (deflated 59%)\n",
            "  adding: content/TP_PS/checkpoint/LDM_xtm_test.txt (deflated 59%)\n",
            "  adding: content/TP_PS/checkpoint/ldm_xtm.h5 (deflated 46%)\n",
            "  adding: content/TP_PS/checkpoint/fpdm_cnn.h5 (deflated 34%)\n",
            "  adding: content/TP_PS/checkpoint/images/ (stored 0%)\n",
            "  adding: content/TP_PS/checkpoint/images/roc_curve.jpg (deflated 32%)\n",
            "  adding: content/TP_PS/checkpoint/images/barplot.jpg (deflated 22%)\n",
            "  adding: content/TP_PS/checkpoint/fpdm_xtm.h5 (deflated 20%)\n",
            "  adding: content/TP_PS/checkpoint/fpdm_transformer.h5 (deflated 45%)\n",
            "  adding: content/TP_PS/checkpoint/fpdm_cnn_lstm.h5 (deflated 21%)\n",
            "  adding: content/TP_PS/scripts/ (stored 0%)\n",
            "  adding: content/TP_PS/scripts/Data.py (deflated 73%)\n",
            "  adding: content/TP_PS/scripts/LDM_Model.py (deflated 73%)\n",
            "  adding: content/TP_PS/scripts/__init__.py (stored 0%)\n",
            "  adding: content/TP_PS/scripts/Utility_Functions.py (deflated 70%)\n",
            "  adding: content/TP_PS/scripts/FPDM_Models.py (deflated 84%)\n",
            "  adding: content/TP_PS/scripts/__pycache__/ (stored 0%)\n",
            "  adding: content/TP_PS/scripts/__pycache__/LDM_Model.cpython-39.pyc (deflated 49%)\n",
            "  adding: content/TP_PS/scripts/__pycache__/LDM_Data.cpython-39.pyc (deflated 50%)\n",
            "  adding: content/TP_PS/scripts/__pycache__/LDM_Model.cpython-310.pyc (deflated 49%)\n",
            "  adding: content/TP_PS/scripts/__pycache__/FPDM.cpython-310.pyc (deflated 46%)\n",
            "  adding: content/TP_PS/scripts/__pycache__/FPDM_Models.cpython-310.pyc (deflated 57%)\n",
            "  adding: content/TP_PS/scripts/__pycache__/Data.cpython-39.pyc (deflated 48%)\n",
            "  adding: content/TP_PS/scripts/__pycache__/Utility_Functions.cpython-310.pyc (deflated 50%)\n",
            "  adding: content/TP_PS/scripts/__pycache__/FPDM.cpython-39.pyc (deflated 46%)\n",
            "  adding: content/TP_PS/scripts/__pycache__/__init__.cpython-310.pyc (deflated 26%)\n",
            "  adding: content/TP_PS/scripts/__pycache__/Utility_Functions.cpython-39.pyc (deflated 49%)\n",
            "  adding: content/TP_PS/scripts/__pycache__/Data.cpython-310.pyc (deflated 47%)\n",
            "  adding: content/TP_PS/scripts/__pycache__/FPDM_Models.cpython-39.pyc (deflated 58%)\n",
            "  adding: content/TP_PS/scripts/__pycache__/LDM_Data.cpython-310.pyc (deflated 50%)\n",
            "  adding: content/TP_PS/scripts/LDM_Data.py (deflated 76%)\n",
            "  adding: content/TP_PS/scripts/FPDM.py (deflated 71%)\n",
            "  adding: content/TP_PS/.git/ (stored 0%)\n",
            "  adding: content/TP_PS/.git/logs/ (stored 0%)\n",
            "  adding: content/TP_PS/.git/logs/HEAD (deflated 26%)\n",
            "  adding: content/TP_PS/.git/logs/refs/ (stored 0%)\n",
            "  adding: content/TP_PS/.git/logs/refs/heads/ (stored 0%)\n",
            "  adding: content/TP_PS/.git/logs/refs/heads/main (deflated 26%)\n",
            "  adding: content/TP_PS/.git/logs/refs/remotes/ (stored 0%)\n",
            "  adding: content/TP_PS/.git/logs/refs/remotes/origin/ (stored 0%)\n",
            "  adding: content/TP_PS/.git/logs/refs/remotes/origin/HEAD (deflated 26%)\n",
            "  adding: content/TP_PS/.git/HEAD (stored 0%)\n",
            "  adding: content/TP_PS/.git/config (deflated 32%)\n",
            "  adding: content/TP_PS/.git/info/ (stored 0%)\n",
            "  adding: content/TP_PS/.git/info/exclude (deflated 28%)\n",
            "  adding: content/TP_PS/.git/packed-refs (deflated 9%)\n",
            "  adding: content/TP_PS/.git/refs/ (stored 0%)\n",
            "  adding: content/TP_PS/.git/refs/heads/ (stored 0%)\n",
            "  adding: content/TP_PS/.git/refs/heads/main (stored 0%)\n",
            "  adding: content/TP_PS/.git/refs/remotes/ (stored 0%)\n",
            "  adding: content/TP_PS/.git/refs/remotes/origin/ (stored 0%)\n",
            "  adding: content/TP_PS/.git/refs/remotes/origin/HEAD (stored 0%)\n",
            "  adding: content/TP_PS/.git/refs/tags/ (stored 0%)\n",
            "  adding: content/TP_PS/.git/description (deflated 14%)\n",
            "  adding: content/TP_PS/.git/objects/ (stored 0%)\n",
            "  adding: content/TP_PS/.git/objects/info/ (stored 0%)\n",
            "  adding: content/TP_PS/.git/objects/pack/ (stored 0%)\n",
            "  adding: content/TP_PS/.git/objects/pack/pack-e1f41e786fe053ccaed6155da8eb3b6e3c7e63af.pack (deflated 0%)\n",
            "  adding: content/TP_PS/.git/objects/pack/pack-e1f41e786fe053ccaed6155da8eb3b6e3c7e63af.idx (deflated 38%)\n",
            "  adding: content/TP_PS/.git/hooks/ (stored 0%)\n",
            "  adding: content/TP_PS/.git/hooks/pre-merge-commit.sample (deflated 39%)\n",
            "  adding: content/TP_PS/.git/hooks/fsmonitor-watchman.sample (deflated 62%)\n",
            "  adding: content/TP_PS/.git/hooks/push-to-checkout.sample (deflated 55%)\n",
            "  adding: content/TP_PS/.git/hooks/update.sample (deflated 68%)\n",
            "  adding: content/TP_PS/.git/hooks/pre-receive.sample (deflated 40%)\n",
            "  adding: content/TP_PS/.git/hooks/pre-push.sample (deflated 49%)\n",
            "  adding: content/TP_PS/.git/hooks/pre-applypatch.sample (deflated 38%)\n",
            "  adding: content/TP_PS/.git/hooks/commit-msg.sample (deflated 44%)\n",
            "  adding: content/TP_PS/.git/hooks/pre-rebase.sample (deflated 59%)\n",
            "  adding: content/TP_PS/.git/hooks/applypatch-msg.sample (deflated 42%)\n",
            "  adding: content/TP_PS/.git/hooks/pre-commit.sample (deflated 45%)\n",
            "  adding: content/TP_PS/.git/hooks/prepare-commit-msg.sample (deflated 50%)\n",
            "  adding: content/TP_PS/.git/hooks/post-update.sample (deflated 27%)\n",
            "  adding: content/TP_PS/.git/index (deflated 48%)\n",
            "  adding: content/TP_PS/.git/branches/ (stored 0%)\n",
            "  adding: content/TP_PS/README.md (deflated 48%)\n",
            "  adding: content/TP_PS/checkpoint\\images\\barplot.jpg (deflated 36%)\n",
            "  adding: content/TP_PS/checkpoint\\images\\roc_curve.jpg (deflated 44%)\n"
          ]
        }
      ]
    },
    {
      "cell_type": "code",
      "source": [
        "from google.colab import files\n",
        "files.download('models.zip')"
      ],
      "metadata": {
        "colab": {
          "base_uri": "https://localhost:8080/",
          "height": 17
        },
        "id": "z8Ei0_CFoEAj",
        "outputId": "faa4fa38-3864-48ff-f084-b97512c86772"
      },
      "execution_count": 23,
      "outputs": [
        {
          "output_type": "display_data",
          "data": {
            "text/plain": [
              "<IPython.core.display.Javascript object>"
            ],
            "application/javascript": [
              "\n",
              "    async function download(id, filename, size) {\n",
              "      if (!google.colab.kernel.accessAllowed) {\n",
              "        return;\n",
              "      }\n",
              "      const div = document.createElement('div');\n",
              "      const label = document.createElement('label');\n",
              "      label.textContent = `Downloading \"${filename}\": `;\n",
              "      div.appendChild(label);\n",
              "      const progress = document.createElement('progress');\n",
              "      progress.max = size;\n",
              "      div.appendChild(progress);\n",
              "      document.body.appendChild(div);\n",
              "\n",
              "      const buffers = [];\n",
              "      let downloaded = 0;\n",
              "\n",
              "      const channel = await google.colab.kernel.comms.open(id);\n",
              "      // Send a message to notify the kernel that we're ready.\n",
              "      channel.send({})\n",
              "\n",
              "      for await (const message of channel.messages) {\n",
              "        // Send a message to notify the kernel that we're ready.\n",
              "        channel.send({})\n",
              "        if (message.buffers) {\n",
              "          for (const buffer of message.buffers) {\n",
              "            buffers.push(buffer);\n",
              "            downloaded += buffer.byteLength;\n",
              "            progress.value = downloaded;\n",
              "          }\n",
              "        }\n",
              "      }\n",
              "      const blob = new Blob(buffers, {type: 'application/binary'});\n",
              "      const a = document.createElement('a');\n",
              "      a.href = window.URL.createObjectURL(blob);\n",
              "      a.download = filename;\n",
              "      div.appendChild(a);\n",
              "      a.click();\n",
              "      div.remove();\n",
              "    }\n",
              "  "
            ]
          },
          "metadata": {}
        },
        {
          "output_type": "display_data",
          "data": {
            "text/plain": [
              "<IPython.core.display.Javascript object>"
            ],
            "application/javascript": [
              "download(\"download_4d5714a2-7267-4835-acb0-0190bc160d28\", \"models.zip\", 24746876)"
            ]
          },
          "metadata": {}
        }
      ]
    }
  ]
}